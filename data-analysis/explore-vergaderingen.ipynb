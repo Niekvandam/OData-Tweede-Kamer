{
 "cells": [
  {
   "cell_type": "markdown",
   "metadata": {},
   "source": [
    "## Imports"
   ]
  },
  {
   "cell_type": "code",
   "execution_count": 2,
   "metadata": {},
   "outputs": [],
   "source": [
    "import os\n",
    "import requests\n",
    "from IPython.display import display, HTML\n",
    "from tabulate import tabulate\n",
    "import urllib.request\n"
   ]
  },
  {
   "cell_type": "markdown",
   "metadata": {},
   "source": [
    "## Helper funcs. "
   ]
  },
  {
   "cell_type": "code",
   "execution_count": 3,
   "metadata": {},
   "outputs": [],
   "source": [
    "\n",
    "def fetch_all_data(url):\n",
    "    \"\"\"Fetch all data from the given URL.\"\"\"\n",
    "    print(\"retrieving data from\", url)\n",
    "    counter = 0 \n",
    "    documents = []\n",
    "    while url and counter < 1000:\n",
    "        response = requests.get(url)\n",
    "        data = response.json()\n",
    "        documents.extend(data.get('value', []))\n",
    "        url = data.get('@odata.nextLink', None)  # Get the next link if available\n",
    "        counter += 1\n",
    "    return documents\n",
    "\n",
    "def truncate_string(s, max_length):\n",
    "    \"\"\"Truncate string to the max_length with ellipsis if needed.\"\"\"\n",
    "    return s if len(s) <= max_length else s[:max_length - 3] + '...'\n",
    "\n",
    "def construct_url(base_url, filters=None, select=None, expand=None, skip=None, top=None, orderby=None, count=False):\n",
    "    \"\"\"Function to construct URL with OData filters\"\"\"\n",
    "    query_params = []\n",
    "\n",
    "    if filters:\n",
    "        query_params.append(f\"$filter={filters}\")\n",
    "    if select:\n",
    "        query_params.append(f\"$select={select}\")\n",
    "    if expand:\n",
    "        query_params.append(f\"$expand={expand}\")\n",
    "    if skip:\n",
    "        query_params.append(f\"$skip={skip}\")\n",
    "    if top:\n",
    "        query_params.append(f\"$top={top}\")\n",
    "    if orderby:\n",
    "        query_params.append(f\"$orderby={orderby}\")\n",
    "    if count:\n",
    "        query_params.append(f\"$count=true\")\n",
    "\n",
    "    if query_params:\n",
    "        return f\"{base_url}?\" + \"&\".join(query_params)\n",
    "    else:\n",
    "        return base_url"
   ]
  },
  {
   "cell_type": "markdown",
   "metadata": {},
   "source": [
    "## Letsgoo"
   ]
  },
  {
   "cell_type": "code",
   "execution_count": 4,
   "metadata": {},
   "outputs": [
    {
     "name": "stdout",
     "output_type": "stream",
     "text": [
      "https://gegevensmagazijn.tweedekamer.nl/OData/v4/2.0/Vergadering?$filter=Kamer eq 'tweede kamer' and year(datum) eq 2024&$expand=Verslag&$orderby=Datum desc\n"
     ]
    }
   ],
   "source": [
    "base_url = 'https://gegevensmagazijn.tweedekamer.nl/OData/v4/2.0/'\n",
    "documentation_url = \"https://opendata.tweedekamer.nl/documentatie/\"\n",
    "\n",
    "# Filters en params\n",
    "filters = \"Kamer eq 'tweede kamer' and year(datum) eq 2024\"\n",
    "select = None # Kan bijvoorbeeld zijn: 'id, naam, partij'\n",
    "expand = \"Verslag\" # Bedoeld om child-data op te vragen, \n",
    "skip = None # Skip aantal records\n",
    "top = None # Top aantal records\n",
    "orderby = \"Datum desc\" # Orderby asc, desc\n",
    "count = False # Count aantal records\n",
    "\n",
    "# Maak url\n",
    "combined_url = construct_url(base_url + \"Vergadering\", filters, select, expand, skip, top, orderby, count)\n",
    "print(combined_url)"
   ]
  },
  {
   "cell_type": "code",
   "execution_count": 5,
   "metadata": {},
   "outputs": [
    {
     "name": "stdout",
     "output_type": "stream",
     "text": [
      "retrieving data from https://gegevensmagazijn.tweedekamer.nl/OData/v4/2.0/Vergadering?$filter=Kamer eq 'tweede kamer' and year(datum) eq 2024&$expand=Verslag&$orderby=Datum desc\n",
      "Titel                                    Datum                      Zaal                      Verslag soort\n",
      "---------------------------------------  -------------------------  ------------------------  ----------------\n",
      "92e vergadering, donderdag 4 juli 2024   2024-07-04T00:00:00+02:00  Plenaire zaal             Tussenpublicatie\n",
      "Mestbeleid                               2024-07-04T00:00:00+02:00  Thorbeckezaal             Tussenpublicatie\n",
      "91e vergadering, woensdag 3 juli 2024    2024-07-03T00:00:00+02:00  Plenaire zaal             Tussenpublicatie\n",
      "NAVO                                     2024-07-03T00:00:00+02:00  Thorbeckezaal             Tussenpublicatie\n",
      "90e vergadering, donderdag 27 juni 2024  2024-06-27T00:00:00+02:00  Plenaire zaal             Tussenpublicatie\n",
      "vmbo                                     2024-06-27T00:00:00+02:00  Groen van Prinstererzaal  Tussenpublicatie\n",
      "MH17                                     2024-06-26T00:00:00+02:00  Troelstrazaal             Tussenpublicatie\n",
      "Jaarverslagen                            2024-06-26T00:00:00+02:00  Groen van Prinstererzaal  Tussenpublicatie\n",
      "89e vergadering, woensdag 26 juni 2024   2024-06-26T00:00:00+02:00  Plenaire zaal             Tussenpublicatie\n",
      "88e vergadering, dinsdag 25 juni 2024    2024-06-25T00:00:00+02:00  Plenaire zaal             Tussenpublicatie\n"
     ]
    }
   ],
   "source": [
    "vergadering_data = fetch_all_data(combined_url)\n",
    "\n",
    "amount_of_rows = 10\n",
    "data = []\n",
    "\n",
    "for vergadering in vergadering_data:\n",
    "    titel = truncate_string(vergadering['Titel'], 50)\n",
    "    data.append([titel, vergadering['Datum'], vergadering['Zaal'], vergadering.get('Verslag')[-1].get('Soort')])\n",
    "\n",
    "print(tabulate(data[:amount_of_rows], headers=['Titel', 'Datum', 'Zaal', 'Verslag soort']))"
   ]
  },
  {
   "cell_type": "markdown",
   "metadata": {},
   "source": [
    "### Download verslagen"
   ]
  },
  {
   "cell_type": "code",
   "execution_count": 6,
   "metadata": {},
   "outputs": [],
   "source": [
    "# We'll just be downloading 5 for now\n",
    "for vergadering in vergadering_data[:5]:\n",
    "    # Get (latest) verslag from vergadering\n",
    "    verslag_id = vergadering['Verslag'][-1]['Id']\n",
    "    verslag_url = f\"{base_url}Verslag/{verslag_id}/resource\"\n",
    "    # Download the verslag URL in XML format\n",
    "    urllib.request.urlretrieve(verslag_url, f'verslag-data/{verslag_id}.xml')\n"
   ]
  },
  {
   "cell_type": "markdown",
   "metadata": {},
   "source": [
    "## Parse verslag XML to gain some insights"
   ]
  },
  {
   "cell_type": "code",
   "execution_count": 18,
   "metadata": {},
   "outputs": [
    {
     "name": "stdout",
     "output_type": "stream",
     "text": [
      "Analyzing first XML file: ./verslag-data/0a69c26d-1b24-4012-b3c2-f827c0e65634.xml\n"
     ]
    },
    {
     "ename": "FileNotFoundError",
     "evalue": "[Errno 2] No such file or directory: '//ns:alinea//text()'",
     "output_type": "error",
     "traceback": [
      "\u001b[1;31m---------------------------------------------------------------------------\u001b[0m",
      "\u001b[1;31mFileNotFoundError\u001b[0m                         Traceback (most recent call last)",
      "Cell \u001b[1;32mIn[18], line 16\u001b[0m\n\u001b[0;32m     13\u001b[0m tree \u001b[38;5;241m=\u001b[39m ET\u001b[38;5;241m.\u001b[39mparse(xml_file_path)\n\u001b[0;32m     15\u001b[0m \u001b[38;5;66;03m# XPath expression to find all text in alinea elements and their children\u001b[39;00m\n\u001b[1;32m---> 16\u001b[0m alinea_texts \u001b[38;5;241m=\u001b[39m \u001b[43mtree\u001b[49m\u001b[38;5;241;43m.\u001b[39;49m\u001b[43mparse\u001b[49m\u001b[43m(\u001b[49m\u001b[38;5;124;43m'\u001b[39;49m\u001b[38;5;124;43m//ns:alinea//text()\u001b[39;49m\u001b[38;5;124;43m'\u001b[39;49m\u001b[43m)\u001b[49m\n\u001b[0;32m     18\u001b[0m \u001b[38;5;66;03m# Print the extracted texts\u001b[39;00m\n\u001b[0;32m     19\u001b[0m \u001b[38;5;28;01mfor\u001b[39;00m text \u001b[38;5;129;01min\u001b[39;00m alinea_texts:\n",
      "File \u001b[1;32m~\\AppData\\Local\\Programs\\Python\\Python311\\Lib\\xml\\etree\\ElementTree.py:569\u001b[0m, in \u001b[0;36mElementTree.parse\u001b[1;34m(self, source, parser)\u001b[0m\n\u001b[0;32m    567\u001b[0m close_source \u001b[38;5;241m=\u001b[39m \u001b[38;5;28;01mFalse\u001b[39;00m\n\u001b[0;32m    568\u001b[0m \u001b[38;5;28;01mif\u001b[39;00m \u001b[38;5;129;01mnot\u001b[39;00m \u001b[38;5;28mhasattr\u001b[39m(source, \u001b[38;5;124m\"\u001b[39m\u001b[38;5;124mread\u001b[39m\u001b[38;5;124m\"\u001b[39m):\n\u001b[1;32m--> 569\u001b[0m     source \u001b[38;5;241m=\u001b[39m \u001b[38;5;28mopen\u001b[39m(source, \u001b[38;5;124m\"\u001b[39m\u001b[38;5;124mrb\u001b[39m\u001b[38;5;124m\"\u001b[39m)\n\u001b[0;32m    570\u001b[0m     close_source \u001b[38;5;241m=\u001b[39m \u001b[38;5;28;01mTrue\u001b[39;00m\n\u001b[0;32m    571\u001b[0m \u001b[38;5;28;01mtry\u001b[39;00m:\n",
      "\u001b[1;31mFileNotFoundError\u001b[0m: [Errno 2] No such file or directory: '//ns:alinea//text()'"
     ]
    }
   ],
   "source": [
    "import os\n",
    "\n",
    "import xml.etree.ElementTree as ET\n",
    "\n",
    "# Get the path of the first XML file in the directory\n",
    "xml_dir = './verslag-data/'\n",
    "xml_files = os.listdir(xml_dir)\n",
    "xml_file_path = os.path.join(xml_dir, xml_files[0])\n",
    "\n",
    "print(f\"Analyzing first XML file: {xml_file_path}\")\n",
    "\n",
    "# Parse the XML file\n",
    "tree = ET.parse(xml_file_path)\n"
   ]
  }
 ],
 "metadata": {
  "kernelspec": {
   "display_name": ".venv",
   "language": "python",
   "name": "python3"
  },
  "language_info": {
   "codemirror_mode": {
    "name": "ipython",
    "version": 3
   },
   "file_extension": ".py",
   "mimetype": "text/x-python",
   "name": "python",
   "nbconvert_exporter": "python",
   "pygments_lexer": "ipython3",
   "version": "3.11.4"
  }
 },
 "nbformat": 4,
 "nbformat_minor": 2
}
